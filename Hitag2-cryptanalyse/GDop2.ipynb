{
 "cells": [
  {
   "attachments": {},
   "cell_type": "markdown",
   "metadata": {},
   "source": [
    "# GD (Guess and Determine) optimization 2, it takes few hours to return the complete list of candidate states"
   ]
  },
  {
   "attachments": {},
   "cell_type": "markdown",
   "metadata": {},
   "source": [
    "In this second optimization, the task is to eliminate the recursion in the function by replacing it with 9 nested loops. The reasoning remains the same."
   ]
  },
  {
   "cell_type": "code",
   "execution_count": 2,
   "metadata": {},
   "outputs": [],
   "source": [
    "from GDop1 import *\n",
    "\n",
    "def find_state2(keystream):\n",
    "  \"\"\"\n",
    "\n",
    "    This is the initial optimization approach, and it approximately generates 2^16 candidate\n",
    "    states. Each nested loop iterates through the possible values of the corresponding layer's\n",
    "    state variable, following the steps outlined in the comments. If a guess is correct, it proceeds\n",
    "    to the next layer with an updated state. Once all layers are iterated, the final state is passed\n",
    "    to the test function for further verification against the remaining 23 observed keystream bits,\n",
    "    which will narrow down the list of candidates to approximately 216 states that produced the observed 32-bit sample\n",
    "    Args:\n",
    "        keystream (list): List of observed keystream bits.\n",
    "\n",
    "    Returns:\n",
    "        list: List of approximately 2^16 candidate states.\n",
    "\n",
    "    \"\"\"\n",
    "  # Iterate through possible values of the first layer's state variable\n",
    "  for i0 in range(1<<bits[0]):\n",
    "    state0 = expand(masks[0], i0)\n",
    "    #Check if state0 produces the correct first keystream\n",
    "    if f20(state0) != keystream[0]:\n",
    "      continue\n",
    "\n",
    "    # Iterate through possible values of the second layer's state variable\n",
    "    for i1 in range(1<<(bits[1]+1)): # guess LFSR output bit 0\n",
    "      state1 = (state0>>1) | expand(masks[1]|(1<<47), i1)\n",
    "      #Check if state1 produces the correct second keystream\n",
    "      if f20(state1) != keystream[1]:\n",
    "        continue\n",
    "\n",
    "      # Iterate through possible values of the third layer's state variable\n",
    "      for i2 in range(1<<(bits[2]+1)): # guess LFSR output bit 1\n",
    "        state2 = (state1>>1) | expand(masks[2]|(1<<47), i2)\n",
    "        #Check if state2 produces the correct third keystream\n",
    "        if f20(state2) != keystream[2]:\n",
    "          continue\n",
    "\n",
    "        # Iterate through possible values of the fourth layer's state variable\n",
    "        for i3 in range(1<<bits[3]):\n",
    "          state3 = lfsr(state2) | expand(masks[3], i3)\n",
    "          #Check if state3 produces the correct fourth keystream\n",
    "          if f20(state3) != keystream[3]:\n",
    "            continue\n",
    "\n",
    "          # Iterate through possible values of the fifth layer's state variable\n",
    "          for i4 in range(1<<bits[4]):\n",
    "            state4 = lfsr(state3) | expand(masks[4], i4)\n",
    "            #Check if state4 produces the correct fifth keystream\n",
    "            if f20(state4) != keystream[4]:\n",
    "              continue\n",
    "\n",
    "            # Iterate through possible values of the sixth layer's state variable\n",
    "            for i5 in range(1<<bits[5]):\n",
    "              state5 = lfsr(state4) | expand(masks[5], i5)\n",
    "              #Check if state5 produces the correct sixth keystream\n",
    "              if f20(state5) != keystream[5]:\n",
    "                continue\n",
    "\n",
    "              # Iterate through possible values of the seventh layer's state variable\n",
    "              for i6 in range(1<<bits[6]):\n",
    "                state6 = lfsr(state5) | expand(masks[6], i6)\n",
    "                #Check if state6 produces the correct seventh keystream\n",
    "                if f20(state6) != keystream[6]:\n",
    "                  continue\n",
    "\n",
    "                # Iterate through possible values of the eighth layer's state variable\n",
    "                for i7 in range(1<<bits[7]):\n",
    "                  state7 = lfsr(state6) | expand(masks[7], i7)\n",
    "                  #Check if state7 produces the correct eighth keystream\n",
    "                  if f20(state7) != keystream[7]:\n",
    "                    continue\n",
    "\n",
    "                  # Iterate through possible values of the ninth layer's state variable\n",
    "                  for i8 in range(1<<bits[8]):\n",
    "                    #Check if state8 produces the correct ninth keystream\n",
    "                    state8 = lfsr(state7) | expand(masks[8], i8)\n",
    "                    if f20(state8) != keystream[8]:\n",
    "                      continue\n",
    "                    #Test it against the remaining 23 observed keystream bits using test function\n",
    "                    test(lfsr(state8),keystream)\n",
    "    \n"
   ]
  },
  {
   "attachments": {},
   "cell_type": "markdown",
   "metadata": {},
   "source": [
    "To verify the validity of the function, we can proceed exactly as before."
   ]
  },
  {
   "attachments": {},
   "cell_type": "markdown",
   "metadata": {},
   "source": [
    "We start by defining our key, uid, iv, keystream and the filt_mask=0x5806b4a2d16c"
   ]
  },
  {
   "cell_type": "code",
   "execution_count": 7,
   "metadata": {},
   "outputs": [],
   "source": [
    "key, uid, iv = 0x414141414141, 0x42424242, 0x43434343\n",
    "state = hitag2_init(0x414141414141, 0x42424242, 0x43434343)\n",
    "keystream_int = hitag2(state,32)\n",
    "keystream = list(map(int, \"{0:032b}\".format(keystream_int)))\n",
    "mask_filt=0x5806b4a2d16c\n"
   ]
  },
  {
   "attachments": {},
   "cell_type": "markdown",
   "metadata": {},
   "source": [
    "Next, we calculate the first 9 evolutions of the register"
   ]
  },
  {
   "cell_type": "code",
   "execution_count": 10,
   "metadata": {},
   "outputs": [],
   "source": [
    "test_states = []\n",
    "for _ in range(len(masks)):\n",
    "    test_states.append(state)\n",
    "    state = lfsr(state)"
   ]
  },
  {
   "attachments": {},
   "cell_type": "markdown",
   "metadata": {},
   "source": [
    "And now we re-implement our function by adding the condition: if (new_state & filt_mask) != (test_states[layer] & filt_mask) to check if the common bits (after applying a filter mask) between the guessed state and the real state are not different."
   ]
  },
  {
   "cell_type": "code",
   "execution_count": 11,
   "metadata": {},
   "outputs": [],
   "source": [
    "def find_state2_val(keystream):\n",
    "  \"\"\"\n",
    "\n",
    "    This is the initial optimization approach, and it approximately generates 2^16 candidate\n",
    "    states. Each nested loop iterates through the possible values of the corresponding layer's\n",
    "    state variable, following the steps outlined in the comments. If a guess is correct, it proceeds\n",
    "    to the next layer with an updated state. Once all layers are iterated, the final state is passed\n",
    "    to the test function for further verification against the remaining 23 observed keystream bits,\n",
    "    which will narrow down the list of candidates to approximately 216 states that produced the observed 32-bit sample\n",
    "    Args:\n",
    "        keystream (list): List of observed keystream bits.\n",
    "\n",
    "    Returns:\n",
    "        list: List of approximately 2^16 candidate states.\n",
    "\n",
    "    \"\"\"\n",
    "  # Iterate through possible values of the first layer's state variable\n",
    "  for i0 in range(1<<bits[0]):\n",
    "    state0 = expand(masks[0], i0)\n",
    "    #check if the common bits (after applying a filter mask) between the guessed state and the real state are not different.\n",
    "    if (state0 & mask_filt) != (test_states[0] & mask_filt):\n",
    "            continue\n",
    "    #Check if state0 produces the correct first keystream\n",
    "    if f20(state0) != keystream[0]:\n",
    "      continue\n",
    "\n",
    "    # Iterate through possible values of the second layer's state variable\n",
    "    for i1 in range(1<<(bits[1]+1)): # guess LFSR output bit 0\n",
    "      state1 = (state0>>1) | expand(masks[1]|(1<<47), i1)\n",
    "      #check if the common bits (after applying a filter mask) between the guessed state and the real state are not different.\n",
    "      if (state1 & mask_filt) != (test_states[1] & mask_filt):\n",
    "            continue\n",
    "      #Check if state1 produces the correct second keystream\n",
    "      if f20(state1) != keystream[1]:\n",
    "        continue\n",
    "\n",
    "      # Iterate through possible values of the third layer's state variable\n",
    "      for i2 in range(1<<(bits[2]+1)): # guess LFSR output bit 1\n",
    "        state2 = (state1>>1) | expand(masks[2]|(1<<47), i2)\n",
    "        #check if the common bits (after applying a filter mask) between the guessed state and the real state are not different.\n",
    "        if (state2 & mask_filt) != (test_states[2] & mask_filt):\n",
    "            continue\n",
    "        #Check if state2 produces the correct third keystream\n",
    "        if f20(state2) != keystream[2]:\n",
    "          continue\n",
    "\n",
    "        # Iterate through possible values of the fourth layer's state variable\n",
    "        for i3 in range(1<<bits[3]):\n",
    "          state3 = lfsr(state2) | expand(masks[3], i3)\n",
    "          #check if the common bits (after applying a filter mask) between the guessed state and the real state are not different.\n",
    "          if (state3 & mask_filt) != (test_states[3] & mask_filt):\n",
    "              continue\n",
    "          #Check if state3 produces the correct fourth keystream\n",
    "          if f20(state3) != keystream[3]:\n",
    "            continue\n",
    "\n",
    "          # Iterate through possible values of the fifth layer's state variable\n",
    "          for i4 in range(1<<bits[4]):\n",
    "            state4 = lfsr(state3) | expand(masks[4], i4)\n",
    "            #check if the common bits (after applying a filter mask) between the guessed state and the real state are not different.\n",
    "            if (state4 & mask_filt) != (test_states[4] & mask_filt):\n",
    "                continue\n",
    "            #Check if state4 produces the correct fifth keystream\n",
    "            if f20(state4) != keystream[4]:\n",
    "              continue\n",
    "\n",
    "            # Iterate through possible values of the sixth layer's state variable\n",
    "            for i5 in range(1<<bits[5]):\n",
    "              state5 = lfsr(state4) | expand(masks[5], i5)\n",
    "              #check if the common bits (after applying a filter mask) between the guessed state and the real state are not different.\n",
    "              if (state5 & mask_filt) != (test_states[5] & mask_filt):\n",
    "                  continue\n",
    "              #Check if state5 produces the correct sixth keystream\n",
    "              if f20(state5) != keystream[5]:\n",
    "                continue\n",
    "\n",
    "              # Iterate through possible values of the seventh layer's state variable\n",
    "              for i6 in range(1<<bits[6]):\n",
    "                state6 = lfsr(state5) | expand(masks[6], i6)\n",
    "                #check if the common bits (after applying a filter mask) between the guessed state and the real state are not different.\n",
    "                if (state6 & mask_filt) != (test_states[6] & mask_filt):\n",
    "                  continue\n",
    "                #Check if state6 produces the correct seventh keystream\n",
    "                if f20(state6) != keystream[6]:\n",
    "                  continue\n",
    "\n",
    "                # Iterate through possible values of the eighth layer's state variable\n",
    "                for i7 in range(1<<bits[7]):\n",
    "                  state7 = lfsr(state6) | expand(masks[7], i7)\n",
    "                  #check if the common bits (after applying a filter mask) between the guessed state and the real state are not different.\n",
    "                  if (state7 & mask_filt) != (test_states[7] & mask_filt):\n",
    "                    continue\n",
    "                  #Check if state7 produces the correct eighth keystream\n",
    "                  if f20(state7) != keystream[7]:\n",
    "                    continue\n",
    "\n",
    "                  # Iterate through possible values of the ninth layer's state variable\n",
    "                  for i8 in range(1<<bits[8]):\n",
    "                    #Check if state8 produces the correct ninth keystream\n",
    "                    state8 = lfsr(state7) | expand(masks[8], i8)\n",
    "                    #check if the common bits (after applying a filter mask) between the guessed state and the real state are not different.\n",
    "                    if (state8 & mask_filt) != (test_states[8] & mask_filt):\n",
    "                      continue\n",
    "                    if f20(state8) != keystream[8]:\n",
    "                      continue\n",
    "                    #Test it against the remaining 23 observed keystream bits using test function\n",
    "                    print(test(lfsr(state8),keystream))"
   ]
  },
  {
   "cell_type": "code",
   "execution_count": 16,
   "metadata": {},
   "outputs": [
    {
     "name": "stdout",
     "output_type": "stream",
     "text": [
      "[True, 198129007952514]\n"
     ]
    }
   ],
   "source": [
    "find_state2_val(keystream)"
   ]
  },
  {
   "attachments": {},
   "cell_type": "markdown",
   "metadata": {},
   "source": [
    "We can see that the result returned by the function is correct."
   ]
  },
  {
   "cell_type": "code",
   "execution_count": 14,
   "metadata": {},
   "outputs": [
    {
     "data": {
      "text/plain": [
       "True"
      ]
     },
     "execution_count": 14,
     "metadata": {},
     "output_type": "execute_result"
    }
   ],
   "source": [
    "198129007952514==hitag2_init(0x414141414141, 0x42424242, 0x43434343)"
   ]
  },
  {
   "attachments": {},
   "cell_type": "markdown",
   "metadata": {},
   "source": []
  },
  {
   "cell_type": "code",
   "execution_count": null,
   "metadata": {},
   "outputs": [],
   "source": []
  }
 ],
 "metadata": {
  "kernelspec": {
   "display_name": ".venv",
   "language": "python",
   "name": "python3"
  },
  "language_info": {
   "codemirror_mode": {
    "name": "ipython",
    "version": 3
   },
   "file_extension": ".py",
   "mimetype": "text/x-python",
   "name": "python",
   "nbconvert_exporter": "python",
   "pygments_lexer": "ipython3",
   "version": "3.9.5"
  },
  "orig_nbformat": 4
 },
 "nbformat": 4,
 "nbformat_minor": 2
}
