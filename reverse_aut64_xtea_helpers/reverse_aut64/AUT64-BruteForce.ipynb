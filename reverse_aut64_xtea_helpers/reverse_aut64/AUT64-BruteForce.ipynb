{
 "cells": [
  {
   "cell_type": "markdown",
   "metadata": {},
   "source": [
    "# AUT64 Brute Force version CPU\n",
    "\n",
    "Auteur: [Kaci Amaouche](mailto:amaouchekaci28@gmail.com)\n",
    "\n",
    "Dans ce [Jupyter](https://jupyter.org/) notebook,nous présentons une implémentation d'une attaque type bruteforce de AUT64 sur CPU en utilisant Python. Si vous n'êtes pas familier avec Jupyter, vous pouvez jeter un coup d'œil rapide à la documentation ou aux tutoriels disponibles[Notebook Basics](https://jupyter-notebook.readthedocs.io/en/stable/examples/Notebook/Notebook%20Basics.html) guide (~5min).\n",
    "\n",
    "Ce notebook comporte:\n",
    "\n",
    "* [Configuration de l'environnement]\n",
    "* [Implémentation]"
   ]
  },
  {
   "cell_type": "markdown",
   "metadata": {},
   "source": [
    "## 1 - Configuration de l'environnement"
   ]
  },
  {
   "cell_type": "markdown",
   "metadata": {},
   "source": [
    "Pour pouvoir exécuter ces scripts, il va falloir:\n",
    "1. Ce notebook (the `.ipynb` file)\n",
    "1. Python >= 3.8\n"
   ]
  },
  {
   "cell_type": "markdown",
   "metadata": {},
   "source": [
    "## 2 - Implémentation"
   ]
  },
  {
   "cell_type": "markdown",
   "metadata": {},
   "source": [
    "On va commencer par importer les librairies nécessaires"
   ]
  },
  {
   "cell_type": "code",
   "execution_count": 26,
   "metadata": {},
   "outputs": [],
   "source": [
    "import itertools\n",
    "import copy\n",
    "from copy import deepcopy\n",
    "from itertools import permutations\n",
    "import math"
   ]
  },
  {
   "cell_type": "markdown",
   "metadata": {},
   "source": [
    "Maintenant, on définit les constates nécessaires pour le système, notamment les tables de recherches table_ln, table_un, table_offset et table_sub et la table TD qui est essentiel pour reconstituer la clé KG"
   ]
  },
  {
   "cell_type": "code",
   "execution_count": 4,
   "metadata": {},
   "outputs": [],
   "source": [
    "table_ln = [0x4, 0x5, 0x6, 0x7, 0x0, 0x1, 0x2, 0x3, # Round 0\n",
    "            0x5, 0x4, 0x7, 0x6, 0x1, 0x0, 0x3, 0x2, # Round 1\n",
    "            0x6, 0x7, 0x4, 0x5, 0x2, 0x3, 0x0, 0x1, # ...\n",
    "            0x7, 0x6, 0x5, 0x4, 0x3, 0x2, 0x1, 0x0, \n",
    "            0x0, 0x1, 0x2, 0x3, 0x4, 0x5, 0x6, 0x7,\n",
    "            0x1, 0x0, 0x3, 0x2, 0x5, 0x4, 0x7, 0x6,\n",
    "            0x2, 0x3, 0x0, 0x1, 0x6, 0x7, 0x4, 0x5,\n",
    "            0x3, 0x2, 0x1, 0x0, 0x7, 0x6, 0x5, 0x4,\n",
    "            0x5, 0x4, 0x7, 0x6, 0x1, 0x0, 0x3, 0x2,\n",
    "            0x4, 0x5, 0x6, 0x7, 0x0, 0x1, 0x2, 0x3,\n",
    "            0x7, 0x6, 0x5, 0x4, 0x3, 0x2, 0x1, 0x0, \n",
    "            0x6, 0x7, 0x4, 0x5, 0x2, 0x3, 0x0, 0x1,\n",
    "            0x1, 0x0, 0x3, 0x2, 0x5, 0x4, 0x7, 0x6,\n",
    "            0x0, 0x1, 0x2, 0x3, 0x4, 0x5, 0x6, 0x7,\n",
    "            0x3, 0x2, 0x1, 0x0, 0x7, 0x6, 0x5, 0x4,\n",
    "            0x2, 0x3, 0x0, 0x1, 0x6, 0x7, 0x4, 0x5,\n",
    "            0x6, 0x7, 0x4, 0x5, 0x2, 0x3, 0x0, 0x1,\n",
    "            0x7, 0x6, 0x5, 0x4, 0x3, 0x2, 0x1, 0x0,\n",
    "            0x4, 0x5, 0x6, 0x7, 0x0, 0x1, 0x2, 0x3,\n",
    "            0x5, 0x4, 0x7, 0x6, 0x1, 0x0, 0x3, 0x2,\n",
    "            0x2, 0x3, 0x0, 0x1, 0x6, 0x7, 0x4, 0x5,\n",
    "            0x3, 0x2, 0x1, 0x0, 0x7, 0x6, 0x5, 0x4,\n",
    "            0x0, 0x1, 0x2, 0x3, 0x4, 0x5, 0x6, 0x7,\n",
    "            0x1, 0x0, 0x3, 0x2, 0x5, 0x4, 0x7, 0x6] # Round 24\n",
    "\n",
    "table_un = [0x1, 0x0, 0x3, 0x2, 0x5, 0x4, 0x7, 0x6, # Round 0\n",
    "            0x0, 0x1, 0x2, 0x3, 0x4, 0x5, 0x6, 0x7, # Round 1\n",
    "            0x3, 0x2, 0x1, 0x0, 0x7, 0x6, 0x5, 0x4, # ...\n",
    "            0x2, 0x3, 0x0, 0x1, 0x6, 0x7, 0x4, 0x5, \n",
    "            0x5, 0x4, 0x7, 0x6, 0x1, 0x0, 0x3, 0x2, \n",
    "            0x4, 0x5, 0x6, 0x7, 0x0, 0x1, 0x2, 0x3, \n",
    "            0x7, 0x6, 0x5, 0x4, 0x3, 0x2, 0x1, 0x0, \n",
    "            0x6, 0x7, 0x4, 0x5, 0x2, 0x3, 0x0, 0x1, \n",
    "            0x3, 0x2, 0x1, 0x0, 0x7, 0x6, 0x5, 0x4,\n",
    "            0x2, 0x3, 0x0, 0x1, 0x6, 0x7, 0x4, 0x5, \n",
    "            0x1, 0x0, 0x3, 0x2, 0x5, 0x4, 0x7, 0x6, \n",
    "            0x0, 0x1, 0x2, 0x3, 0x4, 0x5, 0x6, 0x7,\n",
    "            0x7, 0x6, 0x5, 0x4, 0x3, 0x2, 0x1, 0x0,\n",
    "            0x6, 0x7, 0x4, 0x5, 0x2, 0x3, 0x0, 0x1,\n",
    "            0x5, 0x4, 0x7, 0x6, 0x1, 0x0, 0x3, 0x2,\n",
    "            0x4, 0x5, 0x6, 0x7, 0x0, 0x1, 0x2, 0x3,\n",
    "            0x2, 0x3, 0x0, 0x1, 0x6, 0x7, 0x4, 0x5,\n",
    "            0x3, 0x2, 0x1, 0x0, 0x7, 0x6, 0x5, 0x4,\n",
    "            0x0, 0x1, 0x2, 0x3, 0x4, 0x5, 0x6, 0x7,\n",
    "            0x1, 0x0, 0x3, 0x2, 0x5, 0x4, 0x7, 0x6,\n",
    "            0x6, 0x7, 0x4, 0x5, 0x2, 0x3, 0x0, 0x1,\n",
    "            0x7, 0x6, 0x5, 0x4, 0x3, 0x2, 0x1, 0x0,\n",
    "            0x4, 0x5, 0x6, 0x7, 0x0, 0x1, 0x2, 0x3,\n",
    "            0x5, 0x4, 0x7, 0x6, 0x1, 0x0, 0x3, 0x2] # Round 24\n",
    "# AUT64 la table T_offset pour la fonction de compression         \n",
    "# octet d'entrée:   0    1    2    3    4    5    6    7    8    9    A    B    C    D    E    F  | octet de clé               \n",
    "table_offset = [ 0x0, 0x0, 0x0, 0x0, 0x0, 0x0, 0x0, 0x0, 0x0, 0x0, 0x0, 0x0, 0x0, 0x0, 0x0, 0x0, # 0\n",
    "                 0x0, 0x1, 0x2, 0x3, 0x4, 0x5, 0x6, 0x7, 0x8, 0x9, 0xA, 0xB, 0xC, 0xD, 0xE, 0xF, # 1\n",
    "                 0x0, 0x2, 0x4, 0x6, 0x8, 0xA, 0xC, 0xE, 0x3, 0x1, 0x7, 0x5, 0xB, 0x9, 0xF, 0xD, # 2\n",
    "                 0x0, 0x3, 0x6, 0x5, 0xC, 0xF, 0xA, 0x9, 0xB, 0x8, 0xD, 0xE, 0x7, 0x4, 0x1, 0x2, # 3\n",
    "                 0x0, 0x4, 0x8, 0xC, 0x3, 0x7, 0xB, 0xF, 0x6, 0x2, 0xE, 0xA, 0x5, 0x1, 0xD, 0x9, # 4\n",
    "                 0x0, 0x5, 0xA, 0xF, 0x7, 0x2, 0xD, 0x8, 0xE, 0xB, 0x4, 0x1, 0x9, 0xC, 0x3, 0x6, # 5\n",
    "                 0x0, 0x6, 0xC, 0xA, 0xB, 0xD, 0x7, 0x1, 0x5, 0x3, 0x9, 0xF, 0xE, 0x8, 0x2, 0x4, # 6\n",
    "                 0x0, 0x7, 0xE, 0x9, 0xF, 0x8, 0x1, 0x6, 0xD, 0xA, 0x3, 0x4, 0x2, 0x5, 0xC, 0xB, # 7\n",
    "                 0x0, 0x8, 0x3, 0xB, 0x6, 0xE, 0x5, 0xD, 0xC, 0x4, 0xF, 0x7, 0xA, 0x2, 0x9, 0x1, # 8\n",
    "                 0x0, 0x9, 0x1, 0x8, 0x2, 0xB, 0x3, 0xA, 0x4, 0xD, 0x5, 0xC, 0x6, 0xF, 0x7, 0xE, # 9\n",
    "                 0x0, 0xA, 0x7, 0xD, 0xE, 0x4, 0x9, 0x3, 0xF, 0x5, 0x8, 0x2, 0x1, 0xB, 0x6, 0xC, # A\n",
    "                 0x0, 0xB, 0x5, 0xE, 0xA, 0x1, 0xF, 0x4, 0x7, 0xC, 0x2, 0x9, 0xD, 0x6, 0x8, 0x3, # B\n",
    "                 0x0, 0xC, 0xB, 0x7, 0x5, 0x9, 0xE, 0x2, 0xA, 0x6, 0x1, 0xD, 0xF, 0x3, 0x4, 0x8, # C\n",
    "                 0x0, 0xD, 0x9, 0x4, 0x1, 0xC, 0x8, 0x5, 0x2, 0xF, 0xB, 0x6, 0x3, 0xE, 0xA, 0x7, # D\n",
    "                 0x0, 0xE, 0xF, 0x1, 0xD, 0x3, 0x2, 0xC, 0x9, 0x7, 0x6, 0x8, 0x4, 0xA, 0xB, 0x5, # E\n",
    "                 0x0, 0xF, 0xD, 0x2, 0x9, 0x6, 0x4, 0xB, 0x1, 0xE, 0xC, 0x3, 0x8, 0x7, 0x5, 0xA ]# F\n",
    "\n",
    "# AUT64 table de substitution                                  \n",
    "table_sub = [0x0, 0x1, 0x9, 0xE, 0xD, 0xB, 0x7, 0x6, 0xF, 0x2, 0xC, 0x5, 0xA, 0x4, 0x3, 0x8]\n",
    "\n",
    "#AUT64 table TD utilisé pour reconstituer la clé KG\n",
    "table_td=[0x7D, 0x56, 0x99, 0x65, 0x8C, 0x74, 0x82, 0x83,\n",
    "          0x9B, 0x92, 0x7B, 0xA1, 0xAA, 0xB0, 0x64, 0xCF,\n",
    "          0xB9, 0xDE, 0x5D, 0xED, 0xC8, 0xFC, 0x46, 0x0B,\n",
    "          0xD7, 0x1A, 0x3F, 0x29, 0xC6, 0x38, 0x28, 0x47]\n"
   ]
  },
  {
   "cell_type": "markdown",
   "metadata": {},
   "source": [
    "On peut maintenant définir la fonction de compression"
   ]
  },
  {
   "cell_type": "code",
   "execution_count": 15,
   "metadata": {},
   "outputs": [],
   "source": [
    "def compress(state, key_reg, roundN):\n",
    "    \"\"\"\n",
    "    Réalise une compression sur les données 'state' en utilisant la clé 'key_reg' pour le tour 'roundN'.\n",
    "\n",
    "    Args:\n",
    "        state (list[int]): Liste des 8 octets d'entrée (état) à compresser.\n",
    "        key_reg (list[int]): Liste des valeurs de la clé de registre.\n",
    "        roundN (int): Numéro du tour en cours.\n",
    "\n",
    "    Returns:\n",
    "        int: Résultat de la compression sous la forme d'un octet.\n",
    "\n",
    "    Description:\n",
    "        Cette fonction réalise une compression sur les 8 premiers octets de la liste 'state' en utilisant les\n",
    "        valeurs du registre de clé 'key_reg' pour le tour spécifié 'roundN'. La compression est effectuée en\n",
    "        combinant les nibbles inférieurs et supérieurs de chaque octet d'état avec les nibbles de clé\n",
    "        correspondants. Ensuite, la fonction de compression 'table_offset' est appliquée à ces combinaisons et\n",
    "        le résultat est XORé avec les variables 'r5' et 'r6' pour obtenir le résultat final de la compression.\n",
    "\n",
    "        La dernière étape du calcul concerne le dernier octet de la liste 'state', où le processus est légèrement\n",
    "        différent en raison de la substitution des nibbles de clé et du déplacement des résultats.\n",
    "\n",
    "        Le résultat final de la compression est renvoyé sous la forme d'un octet unique.\n",
    "\n",
    "    \"\"\"\n",
    "\n",
    "    r5 = 0\n",
    "    r6 = 0\n",
    "    for byte in range(0, 7):# Calcul sur les 7 premiers octets\n",
    "        ## Nibble inférieur dans l'octet ## \n",
    "        ln = state[byte] & 0xf # Obtention du nibble inférieur de l'octet\n",
    "        lk = key_reg[table_ln[8*roundN + byte]] # Obtention du nibble de clé\n",
    "        p0 = ln | ((lk << 4) & 0xf0)  # Combinaison du nibble d'état et du nibble de clé  \n",
    "        r6 ^= table_offset[p0]# Application de la fonction de compression table_offset à p0 et XOR avec r6\n",
    "\n",
    "        \n",
    "       ## Nibble supérieur dans l'octet ##\n",
    "        un = (state[byte] >> 4) & 0xf  # Obtention du nibble supérieur de l'octet\n",
    "        uk = key_reg[table_un[8*roundN + byte]] # Obtention du nibble de clé  \n",
    "        p1 = un | ((uk << 4) & 0xf0) # Combinaison du nibble d'état et du nibble de clé uk,un\n",
    "        r5 ^= table_offset[p1] # Application de la fonction de compression table_offset à p1 et XOR avec r5\n",
    "    ## Calcul du dernier octet (7)\n",
    "    \n",
    "    ## Nibble inférieur dans l'octet ##\n",
    "    ln = state[7] & 0xf # Obtention du nibble inférieur de l'octet\n",
    "    lk = key_reg[table_ln[8*roundN + 7]] # Obtention du nibble de clé \n",
    "    ls = (table_sub[lk] << 4) & 0xf0     # Substitution et déplacement du nibble inférieur vers le nibble supérieur\n",
    "\n",
    "    # Recherche de l'index de ln dans table_offset à partir de ls + (0, 1, 2,..., 15)\n",
    "\n",
    "    for i_ln in range(0,16):\n",
    "        if table_offset[ls + i_ln] == ln:\n",
    "            break\n",
    "    r6 ^= i_ln # XOR avec r6\n",
    "\n",
    "    ## Nibble supérieur dans l'octet ##\n",
    "    un = (state[7] >> 4) & 0xf # Obtention du nibble supérieur de l'octet\n",
    "    uk = key_reg[table_un[8*roundN + 7]] # Obtention du nibble de clé   \n",
    "    us = (table_sub[uk] << 4) & 0xf0    # Substitution et déplacement du nibble inférieur vers le nibble supérieur\n",
    "\n",
    "   # Recherche de l'index de un dans table_offset à partir de us + (0, 1, 2,..., 15)\n",
    "    for i_un in range(0,16):\n",
    "        if table_offset[us + i_un] == un:\n",
    "            break\n",
    "    r5 ^= i_un # XOR avec r5\n",
    "    \n",
    "    result = ((r5 << 4) & 0xf0) | (r6 & 0x0f) #r5,r6\n",
    "            \n",
    "    return result\n"
   ]
  },
  {
   "cell_type": "code",
   "execution_count": 16,
   "metadata": {},
   "outputs": [
    {
     "data": {
      "text/plain": [
       "5"
      ]
     },
     "execution_count": 16,
     "metadata": {},
     "output_type": "execute_result"
    }
   ],
   "source": [
    "compress([1,2,3,4,5,6,7,8],[0,1,2,3,4,5,6,7],7)"
   ]
  },
  {
   "cell_type": "markdown",
   "metadata": {},
   "source": [
    "Avant d'implémenter l'algorithme de chiffrement de données, on doit d'abord définir les S-Box et P-Box\n"
   ]
  },
  {
   "cell_type": "code",
   "execution_count": 17,
   "metadata": {},
   "outputs": [],
   "source": [
    "def apply_sbox(byte, sbox):\n",
    "    \"\"\"\n",
    "    Applique la substitution 4x4 'sbox' sur l'octet 'byte' de manière nibble par nibble.\n",
    "\n",
    "    Args:\n",
    "        byte (int): Octet (8 bits) sur lequel appliquer la substitution.\n",
    "        sbox (list[int]): Liste représentant la table de substitution 4x4 (S-box).\n",
    "\n",
    "    Returns:\n",
    "        int: Résultat sous forme d'entier 8 bits après l'application de la substitution.\n",
    "\n",
    "    Description:\n",
    "        Cette fonction applique la substitution 'sbox' sur l'octet 'byte' en prenant en compte les nibbles\n",
    "        inférieur et supérieur séparément. Le résultat final est un entier 8 bits qui représente le\n",
    "        résultat complet après l'application de la substitution.\n",
    "    \"\"\"\n",
    "    result = 0\n",
    "    \n",
    "    # Nibble inférieur\n",
    "    result = sbox[byte & 0xf]\n",
    "    # Nibble supérieur\n",
    "    result = result | sbox[(byte >> 4) & 0x0f] << 4\n",
    "    \n",
    "    return result\n",
    "\n",
    "\n",
    "def apply_pbox(input_data, pbox, n):\n",
    "    \"\"\"\n",
    "    Applique la permutation 'pbox' aux données d'entrée 'input_data' 'n' fois.\n",
    "\n",
    "    Args:\n",
    "        input_data (list[int]): Liste des octets d'entrée sur lesquels appliquer la permutation.\n",
    "        pbox (list[int]): Liste représentant la table de permutation (P-box).\n",
    "        n (int): Nombre de fois à appliquer la permutation.\n",
    "\n",
    "    Returns:\n",
    "        list[int]: Liste des octets de sortie après l'application de la permutation.\n",
    "\n",
    "    Description:\n",
    "        Cette fonction applique la permutation 'pbox' aux données d'entrée 'input_data' 'n' fois. Elle\n",
    "        effectue la permutation sur chaque octet d'entrée et renvoie la liste des octets de sortie après\n",
    "        les 'n' applications de la permutation.\n",
    "    \"\"\"\n",
    "    input_data_copy = copy.copy(input_data)\n",
    "\n",
    "    for rnd in range(0, n):\n",
    "        output_data = [0] * 8\n",
    "        for bIdx, byte in enumerate(input_data_copy):\n",
    "            output_data[pbox[bIdx]] = input_data_copy[bIdx]        \n",
    "        input_data_copy = copy.copy(output_data)\n",
    "        \n",
    "    return output_data\n",
    "\n",
    "\n",
    "def apply_pbox_bitwise(input_data, pbox):\n",
    "    \"\"\"\n",
    "    Applique la permutation 'pbox' aux données d'entrée 'input_data' au niveau des bits.\n",
    "\n",
    "    Args:\n",
    "        input_data (int): Octet d'entrée (8 bits) sur lequel appliquer la permutation.\n",
    "        pbox (list[int]): Liste représentant la table de permutation (P-box).\n",
    "\n",
    "    Returns:\n",
    "        int: Entier 8 bits représentant les données d'entrée après l'application de la permutation.\n",
    "\n",
    "    Description:\n",
    "        Cette fonction applique la permutation 'pbox' aux données d'entrée 'input_data' bit par bit. Elle\n",
    "        effectue la permutation en utilisant les positions définies dans la table 'pbox' et renvoie le\n",
    "        résultat final sous forme d'un entier 8 bits.\n",
    "    \"\"\"\n",
    "    result = 0\n",
    "\n",
    "    for bit in range(8):\n",
    "        if (input_data & (1 << bit)):\n",
    "            result |= (1 << pbox[bit])\n",
    "\n",
    "    return result\n"
   ]
  },
  {
   "cell_type": "code",
   "execution_count": 18,
   "metadata": {},
   "outputs": [
    {
     "data": {
      "text/plain": [
       "78"
      ]
     },
     "execution_count": 18,
     "metadata": {},
     "output_type": "execute_result"
    }
   ],
   "source": [
    "apply_pbox_bitwise(78,[0,1,2,3,4,5,6,7])"
   ]
  },
  {
   "cell_type": "markdown",
   "metadata": {},
   "source": [
    "Finalement, on définit la fonction qui chiffre les donées"
   ]
  },
  {
   "cell_type": "code",
   "execution_count": 20,
   "metadata": {},
   "outputs": [],
   "source": [
    "def encrypt(state, key_reg, pbox, sbox, nRounds):\n",
    "    \"\"\"\n",
    "    Effectue le processus de chiffrement sur l'état 'state' en utilisant la clé 'key_reg' et les tables de permutation et substitution.\n",
    "\n",
    "    Args:\n",
    "        state (list[int]): Liste des octets d'entrée (état) à chiffrer.\n",
    "        key_reg (list[int]): Liste des valeurs du registre de clé.\n",
    "        pbox (list[int]): Liste représentant la table de permutation (P-box).\n",
    "        sbox (list[int]): Liste représentant la table de substitution 4x4 (S-box).\n",
    "        nRounds (int): Nombre de tours de chiffrement à effectuer.\n",
    "\n",
    "    Returns:\n",
    "        list[int]: Liste des octets chiffrés après 'nRounds' tours.\n",
    "\n",
    "    Description:\n",
    "        Cette fonction effectue le chiffrement de l'état 'state' en utilisant la clé 'key_reg' et les tables\n",
    "        de permutation 'pbox' et substitution 'sbox'. Elle répète le processus de chiffrement 'nRounds' fois.\n",
    "        Pour chaque tour de chiffrement, la permutation 'pbox' est appliquée une fois sur l'état interne,\n",
    "        suivie des étapes de compression, substitution et permutation bit à bit. Le résultat final est\n",
    "        obtenu après 'nRounds' tours de chiffrement et est renvoyé sous forme d'une liste des octets\n",
    "        chiffrés.\n",
    "    \"\"\"\n",
    "    stateInternal = copy.deepcopy(state)\n",
    "\n",
    "    for roundN in range(0, nRounds):\n",
    "        stateInternal = apply_pbox(stateInternal, pbox, 1)\n",
    "        step1 = compress(stateInternal, key_reg, roundN)\n",
    "        step2 = list(bin(apply_sbox(step1, sbox))[2:].zfill(8))\n",
    "        step2 = int(''.join(step2), 2)\n",
    "        step3 = apply_pbox_bitwise(step2, pbox)\n",
    "\n",
    "        step4 = int(apply_sbox(step3, sbox))\n",
    "        stateInternal[7] = step4\n",
    "\n",
    "    return stateInternal\n"
   ]
  },
  {
   "cell_type": "markdown",
   "metadata": {},
   "source": [
    "Voici un exemple d'exécution de l'algorithme AUT64"
   ]
  },
  {
   "cell_type": "code",
   "execution_count": 78,
   "metadata": {},
   "outputs": [
    {
     "name": "stdout",
     "output_type": "stream",
     "text": [
      "[1, 194, 3, 7, 168, 29, 252, 132]\n"
     ]
    }
   ],
   "source": [
    "key_reg = [12, 6, 4, 14, 5, 4, 8, 11]\n",
    "state= [0x1,0x2,0x3,0x4,0x5,0x6,0x7,0x8]\n",
    "pbox = [2, 6, 0, 5, 7, 4, 3, 1]\n",
    "sbox=[0, 1, 2, 3, 9, 12, 11, 5, 14, 7, 4, 10, 6, 8, 13, 15]\n",
    "nRounds=24\n",
    "print(encrypt(state,key_reg,pbox,sbox,nRounds))\n"
   ]
  },
  {
   "cell_type": "markdown",
   "metadata": {},
   "source": [
    "Maintenant qu'on a bien implémenté le système, on passe à l'attaque ! Comme expliqué dans le document lié à ce notebook, l'attaque consiste à récupérer les 3 différentes clés"
   ]
  },
  {
   "cell_type": "markdown",
   "metadata": {},
   "source": [
    "Pour expliquer brièvement l'idée de l'attaque, nous demandons d'abord à l'utilisateur d'insérer les valeurs de ID0, ID1, ID2 et ID3 qu'il a récupérées lors de sa connexion avec le transpondeur. Cela nous permettra de reconstituer la clé KG.\n",
    "\n",
    "En ce qui concerne la clé de permutation Kt, les auteurs ont démontré que le schéma de gestion de clé AUT64 réduit l'espace des clés de permutation à seulement 16 clés par fabricant de véhicules. Cela signifie qu'en lisant la clé Kt à partir de deux unités d'immobilisation différentes et en identifiant la partie constante, nous n'aurons que 16 clés candidates.\n",
    "\n",
    "Quant à la clé de substitution Kp, elle a une taille de 16! = 44.3 bits. Pour la retrouver, il suffit de faire une recherche exhaustive en testant toutes les combinaisons possibles. Plutôt que d'utiliser deux boucles imbriquées (une pour Kp et l'autre pour Kt), il est plus efficace de concevoir un algorithme ciblant uniquement la clé Kp et ayant Kt comme l'un de ses paramètres. Ainsi, dans le pire des cas, il suffit de lancer l'algorithme 16 fois pour trouver la clé Kp."
   ]
  },
  {
   "cell_type": "markdown",
   "metadata": {},
   "source": [
    "Avant d'implémenter l'attaque, on définit d'abord un algorithme qui demande de saisir les 16 clés candidates kt"
   ]
  },
  {
   "cell_type": "code",
   "execution_count": 63,
   "metadata": {},
   "outputs": [],
   "source": [
    "def demander_liste():\n",
    "    liste_principale = []\n",
    "\n",
    "    for i in range(16):\n",
    "        liste_saisie = input(f\"Insérez la sous-liste {i+1} (8 éléments séparés par des espaces) : \")\n",
    "        sous_liste = [int(element) for element in liste_saisie.split()]\n",
    "        \n",
    "        # Vérifier que la sous-liste a exactement 8 éléments\n",
    "        if len(sous_liste) != 8:\n",
    "            print(\"La sous-liste doit avoir exactement 8 éléments. Veuillez réessayer.\")\n",
    "            i -= 1\n",
    "            continue\n",
    "\n",
    "        # Vérifier que les éléments sont compris entre 0 et 7\n",
    "        if not all(0 <= element <= 7 for element in sous_liste):\n",
    "            print(\"Les éléments doivent être des entiers entre 0 et 7. Veuillez réessayer.\")\n",
    "            i -= 1\n",
    "            continue\n",
    "\n",
    "        liste_principale.append(sous_liste)\n",
    "\n",
    "    return liste_principale\n",
    "kt=demander_liste()"
   ]
  },
  {
   "cell_type": "markdown",
   "metadata": {},
   "source": [
    "Une fois que l'utilisateur a saisi la liste des 16 clés candidates, on peut définir notre attaque"
   ]
  },
  {
   "cell_type": "code",
   "execution_count": 66,
   "metadata": {},
   "outputs": [],
   "source": [
    "def BruteForce(P, C, kt, nRounds):\n",
    "    \"\"\"\n",
    "    Fonction pour effectuer une attaque par force brute sur AUT64.\n",
    "\n",
    "    Parameters:\n",
    "        P (list): Liste représentant le plaintext (8 éléments de 4 bits chacun).\n",
    "        C (list): Liste représentant le chiffré (8 éléments de 4 bits chacun).\n",
    "        kt (list): Liste représentant la clé de permutation Kt (8 éléments de 4 bits chacun).\n",
    "        nRounds (int): Le nombre de tours à utiliser dans l'algorithme de chiffrement.\n",
    "\n",
    "    Returns:\n",
    "        list: Une liste contenant les résultats de l'attaque : [KG, kt, kp].\n",
    "              KG : Liste représentant la clé KG (8 éléments de 4 bits chacun).\n",
    "              kt : Liste représentant la clé de permutation Kt (8 éléments de 4 bits chacun).\n",
    "              kp : Liste représentant la clé de substitution Kp (16 éléments de 4 bits chacun).\n",
    "        None: Si l'attaque n'a pas réussi à trouver les clés.\n",
    "    \"\"\"\n",
    "\n",
    "    # Récupération des éléments nécessaires pour le calcul de KG\n",
    "    ID0 = int(input(\"Veuillez insérer la valeur de ID0 : \"))\n",
    "    ID1 = int(input(\"Veuillez insérer la valeur de ID1 : \"))\n",
    "    ID2 = int(input(\"Veuillez insérer la valeur de ID2 : \"))\n",
    "    ID3 = int(input(\"Veuillez insérer la valeur de ID3 : \"))\n",
    "    u = (ID0 & 0xE) << 1\n",
    "    kG3 = ID3 ^ TD[3 + u]\n",
    "    kG2 = ID2 ^ TD[2 + u] ^ kG3\n",
    "    kG1 = ID1 ^ TD[1 + u] ^ kG3\n",
    "    kG0 = ID0 ^ TD[u] ^ kG3\n",
    "    KG = [kG0 >> 4, kG0 & 0xF, kG1 >> 4, kG1 & 0xF, kG2 >> 4, kG2 & 0xF, kG3 >> 4, kG3 & 0xF]\n",
    "\n",
    "    kp = []\n",
    "    # Toutes les combinaisons possibles de la sbox (kp)\n",
    "    sbox = permutations([0, 1, 2, 3, 4, 5, 6, 7, 8, 9, 10, 11, 12, 13, 14, 15])\n",
    "    for kp1 in sbox:\n",
    "        C_prime = encrypt(P, KG, kt, kp1, nRounds)\n",
    "        if C_prime == C:\n",
    "            kp = kp1\n",
    "            return [KG, kt, list(kp)]\n",
    "\n",
    "    return None"
   ]
  },
  {
   "cell_type": "markdown",
   "metadata": {},
   "source": [
    "On peut maintenant exécuter l'algorithme d'attaque sur chaque clé kt candidate et s'arréter lorsque la bonne clé est retrouvée"
   ]
  },
  {
   "cell_type": "code",
   "execution_count": 67,
   "metadata": {},
   "outputs": [],
   "source": [
    "def final(P, C, nRounds):\n",
    "    \"\"\"\n",
    "    Fonction pour chercher les clés KG, Kt et Kp en utilisant la fonction BruteForce.\n",
    "\n",
    "    Parameters:\n",
    "        P (list): Liste représentant le plaintext (8 éléments de 4 bits chacun).\n",
    "        C (list): Liste représentant le chiffré (8 éléments de 4 bits chacun).\n",
    "        nRounds (int): Le nombre de tours à utiliser dans l'algorithme de chiffrement.\n",
    "\n",
    "    Returns:\n",
    "        list: Une liste contenant les résultats des clés trouvées : [KG, Kt, Kp].\n",
    "              KG : Liste représentant la clé KG (8 éléments de 4 bits chacun).\n",
    "              Kt : Liste représentant la clé de permutation Kt (8 éléments de 4 bits chacun).\n",
    "              Kp : Liste représentant la clé de substitution Kp (16 éléments de 4 bits chacun).\n",
    "        None: Si les clés n'ont pas été trouvées.\n",
    "    \"\"\"\n",
    "\n",
    "    s = []\n",
    "    for element in kt:\n",
    "        # Chercher les clés KG, Kt et Kp avec la fonction BruteForce\n",
    "        cand = BruteForce(P, C, element, nRounds)\n",
    "        if cand is not None:\n",
    "            return cand\n",
    "\n",
    "    return None\n"
   ]
  },
  {
   "cell_type": "markdown",
   "metadata": {},
   "source": [
    "On peut tester la validité de l'attaque, en fixant la valeur de la clé KG et kt (qui sont censées à ne pas être difficile à récueprer)"
   ]
  },
  {
   "cell_type": "code",
   "execution_count": 80,
   "metadata": {},
   "outputs": [
    {
     "data": {
      "text/plain": [
       "[[12, 6, 4, 14, 5, 4, 8, 11],\n",
       " [2, 6, 0, 5, 7, 4, 3, 1],\n",
       " [0, 1, 2, 3, 4, 5, 6, 7, 8, 10, 12, 13, 14, 11, 15, 9]]"
      ]
     },
     "execution_count": 80,
     "metadata": {},
     "output_type": "execute_result"
    }
   ],
   "source": [
    "def test_validité(P,C,nRounds):\n",
    "    kp = []\n",
    "    # Toutes les combinaisons possibles de la sbox (kp)\n",
    "    sbox = permutations([0, 1, 2, 3, 4, 5, 6, 7, 8, 9, 10, 11, 12, 13, 14, 15])\n",
    "    for kp1 in sbox:\n",
    "        C_prime = encrypt(P, KG, kt, kp1, nRounds)\n",
    "        if C_prime == C:\n",
    "            kp = kp1\n",
    "            return [KG, kt, list(kp)]\n",
    "\n",
    "    return None\n",
    "KG=[12, 6, 4, 14, 5, 4, 8, 11]\n",
    "P=[0x1,0x2,0x3,0x4,0x5,0x6,0x7,0x8]\n",
    "C=[1, 194, 3, 7, 168, 29, 252, 132]\n",
    "kt=[2, 6, 0, 5, 7, 4, 3, 1]\n",
    "kp=[0, 1, 2, 3, 4, 5, 6, 7, 8, 10, 12, 13, 14, 11, 15, 9]\n",
    "nRounds=24\n",
    "C=encrypt(P,KG,kt,kp,nRounds)\n",
    "test_validité(P,C,nRounds)"
   ]
  },
  {
   "cell_type": "code",
   "execution_count": null,
   "metadata": {},
   "outputs": [],
   "source": []
  },
  {
   "cell_type": "code",
   "execution_count": null,
   "metadata": {},
   "outputs": [],
   "source": []
  }
 ],
 "metadata": {
  "kernelspec": {
   "display_name": "Python 3",
   "language": "python",
   "name": "python3"
  },
  "language_info": {
   "codemirror_mode": {
    "name": "ipython",
    "version": 3
   },
   "file_extension": ".py",
   "mimetype": "text/x-python",
   "name": "python",
   "nbconvert_exporter": "python",
   "pygments_lexer": "ipython3",
   "version": "3.9.5"
  },
  "orig_nbformat": 4
 },
 "nbformat": 4,
 "nbformat_minor": 2
}
