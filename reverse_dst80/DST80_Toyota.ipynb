{
 "cells": [
  {
   "cell_type": "markdown",
   "metadata": {},
   "source": [
    "# DST80 crack_Toyota\n",
    "\n",
    "Auteur: [Kaci Amaouche](mailto:amaouchekaci28@gmail.com)\n",
    "\n",
    "Dans ce [Jupyter](https://jupyter.org/) notebook,nous présentons une attaque sur DST80 pour Toyota. Si vous n'êtes pas familier avec Jupyter, vous pouvez jeter un coup d'œil rapide à la documentation ou aux tutoriels disponibles[Notebook Basics](https://jupyter-notebook.readthedocs.io/en/stable/examples/Notebook/Notebook%20Basics.html) guide (~5min).\n",
    "\n",
    "Ce notebook comporte:\n",
    "\n",
    "* [Configuration de l'environnement]\n",
    "* [Implémentation]"
   ]
  },
  {
   "cell_type": "markdown",
   "metadata": {},
   "source": [
    "## 1 - Configuration de l'environnement"
   ]
  },
  {
   "cell_type": "markdown",
   "metadata": {},
   "source": [
    "Pour pouvoir exécuter ces scripts, il va falloir:\n",
    "1. Ce notebook (the `.ipynb` file) et le script DST80_Algo qui doit être dans le même répertoire\n",
    "1. Python >= 3.8\n",
    "1. Seules les librairies standard sont utilisées "
   ]
  },
  {
   "cell_type": "markdown",
   "metadata": {},
   "source": [
    "## 2 - Implémentation"
   ]
  },
  {
   "cell_type": "markdown",
   "metadata": {},
   "source": [
    "# Une brève explication"
   ]
  },
  {
   "cell_type": "markdown",
   "metadata": {},
   "source": [
    "Selon les informations fournies dans le document de cryptanalyse, il n'est pas nécessaire d'entreprendre une cryptanalyse pour le modèle Toyota. Il vous suffira de récupérer les pages 1, 2 et 3 du transpondeur, ainsi que l'ID et trois constantes de 5 octets.\n",
    "\n",
    " Une fois ces éléments en votre possession, vous pourrez rapidement reconstituer la clé en utilisant des relations linéaires quasi instantanées."
   ]
  },
  {
   "cell_type": "markdown",
   "metadata": {},
   "source": [
    "D'après la notation des auteurs, $S[0]$ est l'octet de poids faible, donc en implémentant le pseudo-code, tout sera inversé, par exemple, $S_2[0]$ représente en réalité $S_2[4]$"
   ]
  },
  {
   "cell_type": "markdown",
   "metadata": {},
   "source": [
    "Voici le pseudo-code de l'attaque\n"
   ]
  },
  {
   "cell_type": "code",
   "execution_count": 48,
   "metadata": {},
   "outputs": [],
   "source": [
    "#**Algorithm 4: Toyota Key Generation Algorithm**\n",
    "#*Reverse engineered from immobiliser firmware. The three 5-byte constants X0...X2 have been redacted on the manufacturer's request.*\n",
    "\n",
    "#1. Initialize X as [X0, X1, X2]\n",
    "#2. **function gen_key(page1, page2, id)**\n",
    "#3.   keyL ← (id << 16) | (page1 << 8) | page2\n",
    "#4.   keyR ← keyL\n",
    "#5.   for i in {0...7} do\n",
    "#6.     S1 ← keyR\n",
    "#7.     S2 ← keyR ⊕ X[i mod 3]\n",
    "#8.     S3[0] ← ((S2[0] + S2[2] + S2[3]) & 0xff) << 19\n",
    "#9.     S3[1] ← ((S2[2] + S2[3] + S2[4]) & 0xff) << 10\n",
    "#10.    S3[2] ← ((S2[0] + S2[1] + S2[3]) & 0xff) << 11\n",
    "#11.    S3[3] ← ((S2[0] + S2[1] + S2[4]) & 0xff) << 12\n",
    "#12.    S3[4] ← ((S2[1] + S2[2] + S2[4]) & 0xff) << 13\n",
    "#13.    keyR = S3 ⊕ keyL\n",
    "#14.    keyL = S3\n",
    "#15.   end for\n",
    "#16. return keyL, keyR\n"
   ]
  },
  {
   "cell_type": "markdown",
   "metadata": {},
   "source": [
    "Une façcon d'implémenter :"
   ]
  },
  {
   "cell_type": "code",
   "execution_count": 51,
   "metadata": {},
   "outputs": [],
   "source": [
    "def generate_key(page1, page2, ID, X0, X1, X2):\n",
    "\n",
    "    # On définit ces variables selon le pseudo-code\n",
    "    X = [X0, X1, X2]\n",
    "    keyL = (ID << 16) | (page1 << 8) | page2\n",
    "    keyR = keyL\n",
    "    \n",
    "    for i in range(8):\n",
    "        # On définit S1 et S2\n",
    "        S1 = keyR\n",
    "        S2 = keyR ^ X[2-(i % 3)]\n",
    "\n",
    "        #On converit S2 en liste\n",
    "        S2_list = [(S2 >> (i * 8)) & 0xFF for i in range(4, -1, -1)]\n",
    "\n",
    "        #On déclare une liste vide S3\n",
    "        S3=[0]*5\n",
    "\n",
    "        #On définit les élements de S3 selon le pseudo-code mais en mode inversé, car S3[0] représente le byte de poids faible, et donc on inverse seulement selon ce schéma :\n",
    "        # S2[0] ==>S2[4]\n",
    "        # S2[1] ==>S2[3]\n",
    "        # S2[2] ==>S2[2]\n",
    "        # S2[3] ==>S2[1]\n",
    "        # S2[4] ==>S2[0]\n",
    "\n",
    "        S3[4]= ((S2_list[4] + S2_list[2] + S2_list[1] ) & 0xFF ) << 1\n",
    "        S3[3]= ((S2_list[2] + S2_list[1] + S2_list[0] ) & 0xFF ) << 3\n",
    "        S3[2]= ((S2_list[4] + S2_list[3] + S2_list[1] ) & 0xFF ) << 1\n",
    "        S3[1]= ((S2_list[4] + S2_list[3] + S2_list[0] ) & 0xFF ) << 3\n",
    "        S3[0]= ((S2_list[3] + S2_list[2] + S2_list[0] ) & 0xFF ) << 1\n",
    "\n",
    "        #On convertit KeyL en liste\n",
    "        keyL_list = [(keyL >> (i * 8)) & 0xFF for i in range(4, -1, -1)]\n",
    "\n",
    "        #On contruit keyR selon le pseudo-code\n",
    "        keyR=[S3[i] ^ keyL_list[i] for i in range(5)]\n",
    "\n",
    "        #On convertit keyR en entier\n",
    "        keyR=keyR[4] + keyR[3]*16**2 + keyR[2]*16**4 + keyR[1]*16**6 + keyR[0]*16**8\n",
    "        keyL=S1\n",
    "\n",
    "    return keyL, keyR\n"
   ]
  },
  {
   "cell_type": "markdown",
   "metadata": {},
   "source": [
    "Exemple d'exécution"
   ]
  },
  {
   "cell_type": "code",
   "execution_count": 52,
   "metadata": {},
   "outputs": [
    {
     "data": {
      "text/plain": [
       "(2142938069729, 1151359959121)"
      ]
     },
     "execution_count": 52,
     "metadata": {},
     "output_type": "execute_result"
    }
   ],
   "source": [
    "page1, page2, ID, X0, X1, X2= 0x1234567, 0x7456123, 0x321478, 0x9845124, 0xef125cd4, 0xabc14523e\n",
    "generate_key(page1, page2, ID, X0, X1, X2)"
   ]
  },
  {
   "cell_type": "code",
   "execution_count": null,
   "metadata": {},
   "outputs": [],
   "source": []
  },
  {
   "cell_type": "code",
   "execution_count": null,
   "metadata": {},
   "outputs": [],
   "source": []
  }
 ],
 "metadata": {
  "kernelspec": {
   "display_name": "Python 3",
   "language": "python",
   "name": "python3"
  },
  "language_info": {
   "codemirror_mode": {
    "name": "ipython",
    "version": 3
   },
   "file_extension": ".py",
   "mimetype": "text/x-python",
   "name": "python",
   "nbconvert_exporter": "python",
   "pygments_lexer": "ipython3",
   "version": "3.9.5"
  },
  "orig_nbformat": 4
 },
 "nbformat": 4,
 "nbformat_minor": 2
}
