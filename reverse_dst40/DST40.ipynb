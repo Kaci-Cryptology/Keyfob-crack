{
 "cells": [
  {
   "cell_type": "markdown",
   "metadata": {},
   "source": [
    "# DST40 Brute Force version CPU\n",
    "\n",
    "Auteur: [Kaci Amaouche](mailto:amaouchekaci28@gmail.com)\n",
    "\n",
    "Dans ce [Jupyter](https://jupyter.org/) notebook,nous présentons une implémentation d'une attaque type bruteforce de DST40 sur CPU en utilisant Python. Si vous n'êtes pas familier avec Jupyter, vous pouvez jeter un coup d'œil rapide à la documentation ou aux tutoriels disponibles[Notebook Basics](https://jupyter-notebook.readthedocs.io/en/stable/examples/Notebook/Notebook%20Basics.html) guide (~5min).\n",
    "\n",
    "Ce notebook comporte:\n",
    "\n",
    "* [Configuration de l'environnement]\n",
    "* [Implémentation]"
   ]
  },
  {
   "cell_type": "markdown",
   "metadata": {},
   "source": [
    "## 1 - Configuration de l'environnement"
   ]
  },
  {
   "cell_type": "markdown",
   "metadata": {},
   "source": [
    "Pour pouvoir exécuter ces scripts, il va falloir:\n",
    "1. Ce notebook (the `.ipynb` file)\n",
    "1. Python >= 3.8\n"
   ]
  },
  {
   "cell_type": "markdown",
   "metadata": {},
   "source": [
    "## 2 - Implémentation"
   ]
  },
  {
   "cell_type": "code",
   "execution_count": 2,
   "metadata": {},
   "outputs": [],
   "source": [
    "import math\n"
   ]
  },
  {
   "cell_type": "markdown",
   "metadata": {},
   "source": [
    "On définit le système DST40"
   ]
  },
  {
   "cell_type": "code",
   "execution_count": 95,
   "metadata": {},
   "outputs": [],
   "source": [
    "def bit(x: int, n: int) -> int:\n",
    "    \"\"\"\n",
    "    Get bit n of value x\n",
    "    :param x: an integer\n",
    "    :param n: position of the bit to retrieve\n",
    "    :return: 0 or 1\n",
    "    \"\"\"\n",
    "    x = ((x >> n) & 1)\n",
    "    return x\n",
    "\n",
    "def dst40_round(hash: int, key: int) -> int:\n",
    "\t\"\"\"\n",
    "\tCompute 2 bits of dst-40 keystream\n",
    "\t:param hash: 1rst LFSR state (the one initialized with the challenge)\n",
    "\t:param key: 2nd LFSR state (the one initialized with the secret key)\n",
    "\t\"\"\"\n",
    "\tfa = [0, 1, 0, 1, 1, 0, 1, 1, 1, 1, 0, 0, 1, 0, 0, 0, 0, 0, 1, 1, 0, 0, 0, 1, 1, 0, 1, 0, 1, 1, 0, 1] \n",
    "\tfb = [0, 1, 1, 0, 0, 0, 0, 0, 0, 1, 1, 0, 1, 1, 1, 1, 1, 1, 1, 1, 0, 1, 1, 0, 0, 0, 0, 0, 0, 1, 1, 0]\n",
    "\tfc = [0, 0, 1, 0, 1, 1, 1, 0, 1, 0, 1, 1, 1, 0, 0, 0, 0, 0, 1, 1, 1, 1, 0, 0, 0, 1, 0, 1, 0, 1, 0, 1]\n",
    "\tfd = [0, 1, 0, 1, 1, 1, 0, 0, 0, 0, 1, 1, 1, 0, 1, 0, 0, 0, 1, 1, 1, 0, 1, 0, 0, 1, 0, 1, 1, 1, 0, 0]\n",
    "\tfe = [0, 1, 0, 1, 0, 0, 1, 1, 1, 1, 0, 0, 1, 0, 1, 0]\n",
    "\tfg = [0, 1, 1, 1, 0, 0, 1, 0, 0, 1, 0, 0, 1, 1, 1, 0]\n",
    "\tfh = [0, 0, 2, 3, 3, 1, 2, 1, 1, 2, 1, 3, 3, 2, 0, 0]\n",
    "\n",
    "\tfa1 = fa[(bit(key, 39) << 4) | (bit(key, 31) << 3) | (bit(hash,39) << 2 ) | (bit(hash, 31) << 1) | bit(hash, 23)]\n",
    "\tfb2 = fb[(bit(key, 38) << 4) | (bit(key, 30) << 3) | (bit(hash,38) << 2 ) | (bit(hash, 30) << 1) | bit(hash, 22)]\n",
    "\tfc3 = fc[(bit(key, 23) << 4) | (bit(key, 15) << 3) | (bit(key,7) << 2 ) | (bit(hash, 15) << 1) | bit(hash, 7)]\n",
    "\tfd4 = fd[(bit(key, 22) << 4) | (bit(key, 14) << 3) | (bit(key,6) << 2 ) | (bit(hash, 14) << 1) | bit(hash, 6)]\n",
    "\n",
    "\n",
    "\tfa5 = fa[(bit(key, 37) << 4) | (bit(key,29) << 3) | (bit(hash,37) << 2 ) | (bit(hash, 29) << 1) | bit(hash, 21)]\n",
    "\tfb6 = fb[(bit(key, 36) << 4) | (bit(key, 28) << 3) | (bit(hash,36) << 2 ) | (bit(hash, 28) << 1) | bit(hash, 20)]\n",
    "\tfc7 = fc[(bit(key, 21) << 4) | (bit(key, 13) << 3) | (bit(key,5) << 2 ) | (bit(hash, 13) << 1) | bit(hash, 5)]\n",
    "\tfd8 = fd[(bit(key, 20) << 4) | (bit(key, 12) << 3) | (bit(key,4) << 2 ) | (bit(hash, 12) << 1) | bit(hash, 4)]\n",
    "\n",
    "\tfa9 = fa[(bit(key, 35) << 4) | (bit(key,27) << 3) | (bit(hash,35) << 2 ) | (bit(hash, 27) << 1) | bit(hash, 19)]\n",
    "\tfb10 = fb[(bit(key, 34) << 4) | (bit(key, 26) << 3) | (bit(hash,34) << 2 ) | (bit(hash, 26) << 1) | bit(hash, 18)]\n",
    "\tfc11 = fc[(bit(key, 19) << 4) | (bit(key, 11) << 3) | (bit(key,3) << 2 ) | (bit(hash, 11) << 1) | bit(hash, 3)]\n",
    "\tfd12 = fd[(bit(key, 18) << 4) | (bit(key, 10) << 3) | (bit(key,2) << 2 ) | (bit(hash, 10) << 1) | bit(hash, 2)]\n",
    "\n",
    "\tfa13 = fa[(bit(key, 33) << 4) | (bit(key,25) << 3) | (bit(hash,33) << 2 ) | (bit(hash, 25) << 1) | bit(hash, 17)]\n",
    "\tfb14 = fb[(bit(key, 32) << 4) | (bit(key, 24) << 3) | (bit(hash,32) << 2 ) | (bit(hash, 24) << 1) | bit(hash, 16)]\n",
    "\tfe15 = fe[(bit(key, 17) << 3) | (bit(key, 9) << 2) | (bit(key,1) << 1 ) | bit(hash, 9)]\n",
    "\tfe16 = fe[(bit(key, 16) << 3) | (bit(key, 8) << 2) | (bit(key,0) << 1 ) | bit(hash, 8)]\n",
    "\n",
    "\tfg1 = fg[ (fa1 << 3) | (fb2 << 2) | (fc3 << 1) | fd4]\n",
    "\tfg2 = fg[ (fa5 << 3) | (fb6 << 2) | (fc7 << 1) | fd8]\n",
    "\tfg3 = fg[ (fa9 << 3) | (fb10 << 2) | (fc11 << 1) | fd12]\n",
    "\tfg4 = fg[ (fa13 << 3) | (fb14 << 2) | (fe15 << 1) | fe16]\n",
    "\n",
    "\n",
    "\tfh1 = fh[(fg1 <<3) | (fg2 << 2) | (fg3 << 1) | fg4]\n",
    "\n",
    "\tres = fh1 ^((bit(hash, 1) << 1) | bit(hash, 0))\n",
    "\n",
    "\treturn res\n",
    "\n",
    "\n",
    "\n",
    "def dst40_encode(challenge: int, key: int) -> int:\n",
    "\t\"\"\"\n",
    "\tDST-40 encryption\n",
    "\t:param challenge: 40-bits challenge\n",
    "\t:param key: 40-bits key\n",
    "\t:return: keystream in int\n",
    "\t\"\"\"\n",
    "\tif type(challenge) != int or type(key) != int:\n",
    "\t\tlogger.error(\"Challenge and key must be int values\")\n",
    "\t\treturn 0\n",
    "\n",
    "\thash40 = challenge\n",
    "\tkey40 = key\n",
    "\n",
    "\tcnt = 0\n",
    "\tfor _ in range(192):\n",
    "\t\ttmp = 0\n",
    "\t\thash40 = (dst40_round(hash40, key40) << 38) | (hash40 >> 2)\n",
    "\n",
    "\t\tif cnt == 1: # every three cycles (counter begin at 2) we shift the register (the one initialized with the secret key)\n",
    "\t\t\ttmp = key40\n",
    "\t\t\tkey40  = ((bit(tmp, 0) ^bit(tmp, 2) ^bit(tmp, 19) ^ bit(tmp, 21)) << 39) | (key40 >> 1)\n",
    "\n",
    "\t\tcnt += 1\n",
    "\t\tif cnt == 3 :\n",
    "\t\t\tcnt = 0\n",
    "\n",
    "\treturn hash40 >> 16\n"
   ]
  },
  {
   "cell_type": "markdown",
   "metadata": {},
   "source": [
    "Voici un exemple d'exécution"
   ]
  },
  {
   "cell_type": "code",
   "execution_count": 141,
   "metadata": {},
   "outputs": [
    {
     "name": "stdout",
     "output_type": "stream",
     "text": [
      "5187416 6679828\n"
     ]
    }
   ],
   "source": [
    "P1,P2=2**37-1235478,2**38-14257531\n",
    "key=2**15\n",
    "C1,C2=dst40_encode(P1,key),dst40_encode(P2,key)\n",
    "print(C1,C2)"
   ]
  },
  {
   "cell_type": "markdown",
   "metadata": {},
   "source": [
    "Pour la brute force, il n'y a pas de plus simple, il suffit de faire une recherche exaustive sur toutes les valeurs possibles (de 0 à 2^40)"
   ]
  },
  {
   "cell_type": "code",
   "execution_count": 139,
   "metadata": {},
   "outputs": [],
   "source": [
    "def BruteForce(P1,P2,C1,C2):\n",
    "    for key_found in range(2**40):\n",
    "        if dst40_encode(P1,key_found)==C1:\n",
    "            if dst40_encode(P2,key_found)==C2:\n",
    "                return key_found"
   ]
  },
  {
   "cell_type": "markdown",
   "metadata": {},
   "source": [
    "On peut tester la validité de l'algorithme ainsi "
   ]
  },
  {
   "cell_type": "code",
   "execution_count": 140,
   "metadata": {},
   "outputs": [
    {
     "data": {
      "text/plain": [
       "1024"
      ]
     },
     "execution_count": 140,
     "metadata": {},
     "output_type": "execute_result"
    }
   ],
   "source": [
    "P1,P2=2**12-15,2**13-5\n",
    "key=2**10\n",
    "C1,C2=dst40_encode(P1,key),dst40_encode(P2,key)\n",
    "BruteForce(P1,P2,C1,C2)"
   ]
  },
  {
   "cell_type": "markdown",
   "metadata": {},
   "source": [
    "Cet algo est très lent mais une il s'exécute beaucoup plus rapidement sur GPU"
   ]
  }
 ],
 "metadata": {
  "kernelspec": {
   "display_name": "Python 3",
   "language": "python",
   "name": "python3"
  },
  "language_info": {
   "codemirror_mode": {
    "name": "ipython",
    "version": 3
   },
   "file_extension": ".py",
   "mimetype": "text/x-python",
   "name": "python",
   "nbconvert_exporter": "python",
   "pygments_lexer": "ipython3",
   "version": "3.9.5"
  },
  "orig_nbformat": 4
 },
 "nbformat": 4,
 "nbformat_minor": 2
}
